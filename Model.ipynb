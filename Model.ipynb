{
 "cells": [
  {
   "cell_type": "code",
   "execution_count": 1,
   "metadata": {},
   "outputs": [],
   "source": [
    "import pandas as pd # pandas library for data wrangling\n",
    "import seaborn as sns  # visualization library\n",
    "import numpy as np  # for mathemcatical and numeric purposes and array\n",
    "from sklearn.preprocessing import MinMaxScaler\n",
    "import category_encoders as ce\n",
    "\n"
   ]
  },
  {
   "cell_type": "markdown",
   "metadata": {},
   "source": [
    "Importing the data"
   ]
  },
  {
   "cell_type": "code",
   "execution_count": 2,
   "metadata": {},
   "outputs": [
    {
     "data": {
      "text/html": [
       "<div>\n",
       "<style scoped>\n",
       "    .dataframe tbody tr th:only-of-type {\n",
       "        vertical-align: middle;\n",
       "    }\n",
       "\n",
       "    .dataframe tbody tr th {\n",
       "        vertical-align: top;\n",
       "    }\n",
       "\n",
       "    .dataframe thead th {\n",
       "        text-align: right;\n",
       "    }\n",
       "</style>\n",
       "<table border=\"1\" class=\"dataframe\">\n",
       "  <thead>\n",
       "    <tr style=\"text-align: right;\">\n",
       "      <th></th>\n",
       "      <th>Year of Record</th>\n",
       "      <th>Gender</th>\n",
       "      <th>Age</th>\n",
       "      <th>Country</th>\n",
       "      <th>Size of City</th>\n",
       "      <th>Profession</th>\n",
       "      <th>University Degree</th>\n",
       "      <th>Wears Glasses</th>\n",
       "      <th>Hair Color</th>\n",
       "      <th>Body Height [cm]</th>\n",
       "      <th>Income in EUR</th>\n",
       "    </tr>\n",
       "  </thead>\n",
       "  <tbody>\n",
       "    <tr>\n",
       "      <th>0</th>\n",
       "      <td>1997.0</td>\n",
       "      <td>0</td>\n",
       "      <td>41.0</td>\n",
       "      <td>Belarus</td>\n",
       "      <td>1239930</td>\n",
       "      <td>steel workers</td>\n",
       "      <td>Bachelor</td>\n",
       "      <td>0</td>\n",
       "      <td>Blond</td>\n",
       "      <td>193</td>\n",
       "      <td>61031.94416</td>\n",
       "    </tr>\n",
       "    <tr>\n",
       "      <th>1</th>\n",
       "      <td>1996.0</td>\n",
       "      <td>other</td>\n",
       "      <td>41.0</td>\n",
       "      <td>Singapore</td>\n",
       "      <td>1603504</td>\n",
       "      <td>safe event coordinator</td>\n",
       "      <td>Master</td>\n",
       "      <td>0</td>\n",
       "      <td>Black</td>\n",
       "      <td>186</td>\n",
       "      <td>91001.32764</td>\n",
       "    </tr>\n",
       "    <tr>\n",
       "      <th>2</th>\n",
       "      <td>2018.0</td>\n",
       "      <td>other</td>\n",
       "      <td>28.0</td>\n",
       "      <td>Norway</td>\n",
       "      <td>1298017</td>\n",
       "      <td>receivables/payables analyst</td>\n",
       "      <td>PhD</td>\n",
       "      <td>1</td>\n",
       "      <td>Brown</td>\n",
       "      <td>170</td>\n",
       "      <td>157982.17670</td>\n",
       "    </tr>\n",
       "    <tr>\n",
       "      <th>3</th>\n",
       "      <td>2006.0</td>\n",
       "      <td>other</td>\n",
       "      <td>33.0</td>\n",
       "      <td>Cuba</td>\n",
       "      <td>751903</td>\n",
       "      <td>fleet assistant</td>\n",
       "      <td>No</td>\n",
       "      <td>1</td>\n",
       "      <td>Black</td>\n",
       "      <td>171</td>\n",
       "      <td>45993.75793</td>\n",
       "    </tr>\n",
       "    <tr>\n",
       "      <th>4</th>\n",
       "      <td>2010.0</td>\n",
       "      <td>female</td>\n",
       "      <td>46.0</td>\n",
       "      <td>United Arab Emirates</td>\n",
       "      <td>95389</td>\n",
       "      <td>lead trainer</td>\n",
       "      <td>0</td>\n",
       "      <td>0</td>\n",
       "      <td>Blond</td>\n",
       "      <td>188</td>\n",
       "      <td>38022.16217</td>\n",
       "    </tr>\n",
       "  </tbody>\n",
       "</table>\n",
       "</div>"
      ],
      "text/plain": [
       "   Year of Record  Gender   Age               Country  Size of City  \\\n",
       "0          1997.0       0  41.0               Belarus       1239930   \n",
       "1          1996.0   other  41.0             Singapore       1603504   \n",
       "2          2018.0   other  28.0                Norway       1298017   \n",
       "3          2006.0   other  33.0                  Cuba        751903   \n",
       "4          2010.0  female  46.0  United Arab Emirates         95389   \n",
       "\n",
       "                     Profession University Degree  Wears Glasses Hair Color  \\\n",
       "0                 steel workers          Bachelor              0      Blond   \n",
       "1        safe event coordinator            Master              0      Black   \n",
       "2  receivables/payables analyst               PhD              1      Brown   \n",
       "3               fleet assistant                No              1      Black   \n",
       "4                  lead trainer                 0              0      Blond   \n",
       "\n",
       "   Body Height [cm]  Income in EUR  \n",
       "0               193    61031.94416  \n",
       "1               186    91001.32764  \n",
       "2               170   157982.17670  \n",
       "3               171    45993.75793  \n",
       "4               188    38022.16217  "
      ]
     },
     "execution_count": 2,
     "metadata": {},
     "output_type": "execute_result"
    }
   ],
   "source": [
    "train = pd.read_csv('Training.csv') # read the train dataset also mantion the column names\n",
    "train.drop([\"Instance\"] , inplace=True ,axis=1)\n",
    "train.head()"
   ]
  },
  {
   "cell_type": "markdown",
   "metadata": {},
   "source": [
    "# Data Cleaning"
   ]
  },
  {
   "cell_type": "code",
   "execution_count": 3,
   "metadata": {},
   "outputs": [],
   "source": [
    "# Function for filling Null values with Mode of the Column\n",
    "def fillna(col):\n",
    "    col.fillna(col.value_counts().index[0], inplace=True)\n",
    "    return col"
   ]
  },
  {
   "cell_type": "code",
   "execution_count": 4,
   "metadata": {},
   "outputs": [
    {
     "data": {
      "text/html": [
       "<div>\n",
       "<style scoped>\n",
       "    .dataframe tbody tr th:only-of-type {\n",
       "        vertical-align: middle;\n",
       "    }\n",
       "\n",
       "    .dataframe tbody tr th {\n",
       "        vertical-align: top;\n",
       "    }\n",
       "\n",
       "    .dataframe thead th {\n",
       "        text-align: right;\n",
       "    }\n",
       "</style>\n",
       "<table border=\"1\" class=\"dataframe\">\n",
       "  <thead>\n",
       "    <tr style=\"text-align: right;\">\n",
       "      <th></th>\n",
       "      <th>Year of Record</th>\n",
       "      <th>Gender</th>\n",
       "      <th>Age</th>\n",
       "      <th>Country</th>\n",
       "      <th>Size of City</th>\n",
       "      <th>Profession</th>\n",
       "      <th>University Degree</th>\n",
       "      <th>Wears Glasses</th>\n",
       "      <th>Hair Color</th>\n",
       "      <th>Body Height [cm]</th>\n",
       "      <th>Income in EUR</th>\n",
       "    </tr>\n",
       "  </thead>\n",
       "  <tbody>\n",
       "    <tr>\n",
       "      <th>0</th>\n",
       "      <td>1997.0</td>\n",
       "      <td>unknown</td>\n",
       "      <td>41.0</td>\n",
       "      <td>Belarus</td>\n",
       "      <td>1239930</td>\n",
       "      <td>steel workers</td>\n",
       "      <td>Bachelor</td>\n",
       "      <td>0</td>\n",
       "      <td>Blond</td>\n",
       "      <td>193</td>\n",
       "      <td>61031.94416</td>\n",
       "    </tr>\n",
       "    <tr>\n",
       "      <th>1</th>\n",
       "      <td>1996.0</td>\n",
       "      <td>other</td>\n",
       "      <td>41.0</td>\n",
       "      <td>Singapore</td>\n",
       "      <td>1603504</td>\n",
       "      <td>safe event coordinator</td>\n",
       "      <td>Master</td>\n",
       "      <td>0</td>\n",
       "      <td>Black</td>\n",
       "      <td>186</td>\n",
       "      <td>91001.32764</td>\n",
       "    </tr>\n",
       "    <tr>\n",
       "      <th>2</th>\n",
       "      <td>2018.0</td>\n",
       "      <td>other</td>\n",
       "      <td>28.0</td>\n",
       "      <td>Norway</td>\n",
       "      <td>1298017</td>\n",
       "      <td>receivables/payables analyst</td>\n",
       "      <td>PhD</td>\n",
       "      <td>1</td>\n",
       "      <td>Brown</td>\n",
       "      <td>170</td>\n",
       "      <td>157982.17670</td>\n",
       "    </tr>\n",
       "    <tr>\n",
       "      <th>3</th>\n",
       "      <td>2006.0</td>\n",
       "      <td>other</td>\n",
       "      <td>33.0</td>\n",
       "      <td>Cuba</td>\n",
       "      <td>751903</td>\n",
       "      <td>fleet assistant</td>\n",
       "      <td>No</td>\n",
       "      <td>1</td>\n",
       "      <td>Black</td>\n",
       "      <td>171</td>\n",
       "      <td>45993.75793</td>\n",
       "    </tr>\n",
       "    <tr>\n",
       "      <th>5</th>\n",
       "      <td>1991.0</td>\n",
       "      <td>male</td>\n",
       "      <td>60.0</td>\n",
       "      <td>Liberia</td>\n",
       "      <td>56080</td>\n",
       "      <td>senior security analyst</td>\n",
       "      <td>Bachelor</td>\n",
       "      <td>0</td>\n",
       "      <td>Blond</td>\n",
       "      <td>181</td>\n",
       "      <td>125809.99030</td>\n",
       "    </tr>\n",
       "    <tr>\n",
       "      <th>6</th>\n",
       "      <td>1982.0</td>\n",
       "      <td>unknown</td>\n",
       "      <td>71.0</td>\n",
       "      <td>State of Palestine</td>\n",
       "      <td>1205185</td>\n",
       "      <td>program associate</td>\n",
       "      <td>Bachelor</td>\n",
       "      <td>0</td>\n",
       "      <td>Black</td>\n",
       "      <td>174</td>\n",
       "      <td>150319.42260</td>\n",
       "    </tr>\n",
       "    <tr>\n",
       "      <th>8</th>\n",
       "      <td>2015.0</td>\n",
       "      <td>male</td>\n",
       "      <td>43.0</td>\n",
       "      <td>South Sudan</td>\n",
       "      <td>85333</td>\n",
       "      <td>intergovernmental outreach coordinator</td>\n",
       "      <td>No</td>\n",
       "      <td>0</td>\n",
       "      <td>Blond</td>\n",
       "      <td>189</td>\n",
       "      <td>48058.20607</td>\n",
       "    </tr>\n",
       "    <tr>\n",
       "      <th>9</th>\n",
       "      <td>2019.0</td>\n",
       "      <td>female</td>\n",
       "      <td>16.0</td>\n",
       "      <td>Cuba</td>\n",
       "      <td>1325383</td>\n",
       "      <td>lease analyst</td>\n",
       "      <td>Bachelor</td>\n",
       "      <td>1</td>\n",
       "      <td>Black</td>\n",
       "      <td>157</td>\n",
       "      <td>90940.68912</td>\n",
       "    </tr>\n",
       "  </tbody>\n",
       "</table>\n",
       "</div>"
      ],
      "text/plain": [
       "   Year of Record   Gender   Age             Country  Size of City  \\\n",
       "0          1997.0  unknown  41.0             Belarus       1239930   \n",
       "1          1996.0    other  41.0           Singapore       1603504   \n",
       "2          2018.0    other  28.0              Norway       1298017   \n",
       "3          2006.0    other  33.0                Cuba        751903   \n",
       "5          1991.0     male  60.0             Liberia         56080   \n",
       "6          1982.0  unknown  71.0  State of Palestine       1205185   \n",
       "8          2015.0     male  43.0         South Sudan         85333   \n",
       "9          2019.0   female  16.0                Cuba       1325383   \n",
       "\n",
       "                               Profession University Degree  Wears Glasses  \\\n",
       "0                           steel workers          Bachelor              0   \n",
       "1                  safe event coordinator            Master              0   \n",
       "2            receivables/payables analyst               PhD              1   \n",
       "3                         fleet assistant                No              1   \n",
       "5                 senior security analyst          Bachelor              0   \n",
       "6                       program associate          Bachelor              0   \n",
       "8  intergovernmental outreach coordinator                No              0   \n",
       "9                           lease analyst          Bachelor              1   \n",
       "\n",
       "  Hair Color  Body Height [cm]  Income in EUR  \n",
       "0      Blond               193    61031.94416  \n",
       "1      Black               186    91001.32764  \n",
       "2      Brown               170   157982.17670  \n",
       "3      Black               171    45993.75793  \n",
       "5      Blond               181   125809.99030  \n",
       "6      Black               174   150319.42260  \n",
       "8      Blond               189    48058.20607  \n",
       "9      Black               157    90940.68912  "
      ]
     },
     "execution_count": 4,
     "metadata": {},
     "output_type": "execute_result"
    }
   ],
   "source": [
    "train = train.drop_duplicates()\n",
    "\n",
    "#Outliers Detection & Removal\n",
    "#q = train[\"Income in EUR\"].quantile(0.90)\n",
    "#train  = train[train[\"Income in EUR\"] < q]\n",
    "\n",
    "\n",
    "train[\"Year of Record\"].replace(0, np.NaN, inplace = True)   \n",
    "train.dropna(axis=0, subset=['Year of Record'],inplace=True)\n",
    "\n",
    "train[\"Gender\"].replace(\"0\", \"unknown\", inplace = True)   \n",
    "#train.dropna(axis=0, subset=['Gender'],inplace=True)\n",
    "train[\"Gender\"].replace(np.NaN, \"unknown\", inplace = True)   \n",
    "\n",
    "\n",
    "#train[\"Hair Color\"].replace(np.NaN, \"Unknown\", inplace = True)   \n",
    "train.dropna(axis=0, subset=['Hair Color'],inplace=True)\n",
    "train.dropna(axis=0, subset=['Wears Glasses'],inplace=True)\n",
    "train.dropna(axis=0, subset=['Body Height [cm]'],inplace=True)\n",
    "\n",
    "#train['Age'].fillna((train['Age'].mean()), inplace=True)\n",
    "\n",
    "train.dropna(axis=0, subset=['Age'],inplace=True)\n",
    "\n",
    "#train = train[np.abs(train[\"Size of City\"] - train[\"Size of City\"].mean()) <= (3*train[\"Size of City\"].std())]\n",
    "\n",
    "#train[\"Size of City\"] = pd.qcut(train[\"Size of City\"],5)\n",
    "\n",
    "train.dropna(axis=0, subset=['Profession'],inplace=True)\n",
    "\n",
    "train[\"University Degree\"].replace(\"0\", np.NaN, inplace = True)   # then replce it with NAN becasue dropna fucntion undersatnds that nan means null values\n",
    "train.dropna(axis=0, subset=['University Degree'],inplace=True)\n",
    "\n",
    "train['Age'].fillna((train['Age'].mean()), inplace=True)\n",
    "\n",
    "#Creating Bin for Age\n",
    "#train.loc[ train['Age'] <= 20, 'Age'] = 0\n",
    "#train.loc[(train['Age'] > 20) & (train['Age'] <= 32), 'Age'] = 1\n",
    "#train.loc[(train['Age'] > 32) & (train['Age'] <= 48), 'Age'] = 2\n",
    "#train.loc[(train['Age'] > 48) & (train['Age'] <= 64), 'Age'] = 3\n",
    "#train.loc[ train['Age'] > 64, 'Age'] = 4\n",
    "\n",
    "train.head(8)\n"
   ]
  },
  {
   "cell_type": "code",
   "execution_count": 5,
   "metadata": {},
   "outputs": [
    {
     "data": {
      "text/plain": [
       "(96137, 11)"
      ]
     },
     "execution_count": 5,
     "metadata": {},
     "output_type": "execute_result"
    }
   ],
   "source": [
    "train.shape"
   ]
  },
  {
   "cell_type": "code",
   "execution_count": 6,
   "metadata": {},
   "outputs": [],
   "source": [
    "y = train[\"Income in EUR\"]\n",
    "\n",
    "train.drop([\"Income in EUR\"] , inplace=True ,axis=1)\n",
    "\n",
    "X = train\n",
    "\n"
   ]
  },
  {
   "cell_type": "markdown",
   "metadata": {},
   "source": [
    "# Normalization"
   ]
  },
  {
   "cell_type": "code",
   "execution_count": 7,
   "metadata": {},
   "outputs": [],
   "source": [
    "#scaler = MinMaxScaler()\n",
    "#preds_a = scaler.fit_transform(X)\n",
    "#X = pd.DataFrame(preds_a)\n",
    "\n",
    "#mm_scaler = MinMaxScaler()\n",
    "#X2 = mm_scaler.fit_transform(X2)\n"
   ]
  },
  {
   "cell_type": "markdown",
   "metadata": {},
   "source": [
    "# Cleaning the Test Dataset"
   ]
  },
  {
   "cell_type": "code",
   "execution_count": 8,
   "metadata": {},
   "outputs": [
    {
     "name": "stdout",
     "output_type": "stream",
     "text": [
      "(73230, 12)\n"
     ]
    },
    {
     "data": {
      "text/html": [
       "<div>\n",
       "<style scoped>\n",
       "    .dataframe tbody tr th:only-of-type {\n",
       "        vertical-align: middle;\n",
       "    }\n",
       "\n",
       "    .dataframe tbody tr th {\n",
       "        vertical-align: top;\n",
       "    }\n",
       "\n",
       "    .dataframe thead th {\n",
       "        text-align: right;\n",
       "    }\n",
       "</style>\n",
       "<table border=\"1\" class=\"dataframe\">\n",
       "  <thead>\n",
       "    <tr style=\"text-align: right;\">\n",
       "      <th></th>\n",
       "      <th>Year of Record</th>\n",
       "      <th>Gender</th>\n",
       "      <th>Age</th>\n",
       "      <th>Country</th>\n",
       "      <th>Size of City</th>\n",
       "      <th>Profession</th>\n",
       "      <th>University Degree</th>\n",
       "      <th>Wears Glasses</th>\n",
       "      <th>Hair Color</th>\n",
       "      <th>Body Height [cm]</th>\n",
       "    </tr>\n",
       "  </thead>\n",
       "  <tbody>\n",
       "    <tr>\n",
       "      <th>0</th>\n",
       "      <td>1992.0</td>\n",
       "      <td>other</td>\n",
       "      <td>21.0</td>\n",
       "      <td>Honduras</td>\n",
       "      <td>391652</td>\n",
       "      <td>senior project analyst</td>\n",
       "      <td>1992</td>\n",
       "      <td>1</td>\n",
       "      <td>Brown</td>\n",
       "      <td>153</td>\n",
       "    </tr>\n",
       "    <tr>\n",
       "      <th>1</th>\n",
       "      <td>1986.0</td>\n",
       "      <td>other</td>\n",
       "      <td>34.0</td>\n",
       "      <td>Kyrgyzstan</td>\n",
       "      <td>33653</td>\n",
       "      <td>greeter</td>\n",
       "      <td>1986</td>\n",
       "      <td>0</td>\n",
       "      <td>Black</td>\n",
       "      <td>163</td>\n",
       "    </tr>\n",
       "    <tr>\n",
       "      <th>2</th>\n",
       "      <td>1994.0</td>\n",
       "      <td>unknown</td>\n",
       "      <td>53.0</td>\n",
       "      <td>Portugal</td>\n",
       "      <td>34765</td>\n",
       "      <td>liaison</td>\n",
       "      <td>1994</td>\n",
       "      <td>1</td>\n",
       "      <td>Blond</td>\n",
       "      <td>153</td>\n",
       "    </tr>\n",
       "    <tr>\n",
       "      <th>3</th>\n",
       "      <td>1984.0</td>\n",
       "      <td>unknown</td>\n",
       "      <td>29.0</td>\n",
       "      <td>Uruguay</td>\n",
       "      <td>1494132</td>\n",
       "      <td>occupational therapist</td>\n",
       "      <td>1984</td>\n",
       "      <td>0</td>\n",
       "      <td>Black</td>\n",
       "      <td>154</td>\n",
       "    </tr>\n",
       "    <tr>\n",
       "      <th>4</th>\n",
       "      <td>2007.0</td>\n",
       "      <td>other</td>\n",
       "      <td>17.0</td>\n",
       "      <td>Serbia</td>\n",
       "      <td>120661</td>\n",
       "      <td>portfolio manager</td>\n",
       "      <td>2007</td>\n",
       "      <td>0</td>\n",
       "      <td>Red</td>\n",
       "      <td>191</td>\n",
       "    </tr>\n",
       "  </tbody>\n",
       "</table>\n",
       "</div>"
      ],
      "text/plain": [
       "   Year of Record   Gender   Age     Country  Size of City  \\\n",
       "0          1992.0    other  21.0    Honduras        391652   \n",
       "1          1986.0    other  34.0  Kyrgyzstan         33653   \n",
       "2          1994.0  unknown  53.0    Portugal         34765   \n",
       "3          1984.0  unknown  29.0     Uruguay       1494132   \n",
       "4          2007.0    other  17.0      Serbia        120661   \n",
       "\n",
       "               Profession University Degree  Wears Glasses Hair Color  \\\n",
       "0  senior project analyst              1992              1      Brown   \n",
       "1                 greeter              1986              0      Black   \n",
       "2                 liaison              1994              1      Blond   \n",
       "3  occupational therapist              1984              0      Black   \n",
       "4       portfolio manager              2007              0        Red   \n",
       "\n",
       "   Body Height [cm]  \n",
       "0               153  \n",
       "1               163  \n",
       "2               153  \n",
       "3               154  \n",
       "4               191  "
      ]
     },
     "execution_count": 8,
     "metadata": {},
     "output_type": "execute_result"
    }
   ],
   "source": [
    "test = pd.read_csv('Testing.csv')\n",
    "print(test.shape)\n",
    "y_test = test[\"Income\"]\n",
    "test.drop([\"Instance\",\"Income\"] , inplace=True ,axis=1)\n",
    "\n",
    "\n",
    "test[\"Year of Record\"].replace(0, np.NaN, inplace = True)   # then replce it with NAN becasue dropna fucntion undersatnds that nan means null values\n",
    "test['Year of Record']=train.apply(lambda col:fillna(test['Year of Record']))\n",
    "\n",
    "test[\"Gender\"].replace(\"0\", \"unknown\", inplace = True)   # then replce it with NAN becasue dropna fucntion undersatnds that nan means null values\n",
    "#test[\"Gender\"].replace(np.NaN, \"unknown\", inplace=True)\n",
    "test['Gender']=train.apply(lambda col:fillna(test['Gender']))\n",
    "\n",
    "test['Age'].replace(0,np.NaN, inplace = True)\n",
    "#test['Age']=train.apply(lambda col:fillna(test['Age']))\n",
    "test['Age'].fillna((train['Age'].mean()), inplace=True)\n",
    "\n",
    "\n",
    "#test.loc[ test['Age'] <= 20, 'Age'] = 0\n",
    "#test.loc[(test['Age'] > 20) & (test['Age'] <= 32), 'Age'] = 1\n",
    "#test.loc[(test['Age'] > 32) & (test['Age'] <= 48), 'Age'] = 2\n",
    "#test.loc[(test['Age'] > 48) & (test['Age'] <= 64), 'Age'] = 3\n",
    "#test.loc[ test['Age'] > 64, 'Age'] = 4\n",
    "\n",
    "\n",
    "\n",
    "#test.dropna(axis=0, subset=['Profession'],inplace=True)\n",
    "#test[\"Profession\"].replace(np.NaN, \"Unknown\", inplace=True)\n",
    "\n",
    "test[\"University Degree\"].replace(\"0\", np.NaN, inplace=True)\n",
    "test['University Degree'] = test.fillna(test['University Degree'].value_counts().index[0])\n",
    "\n",
    "test[\"Profession\"].replace(\"0\", np.NaN, inplace=True)\n",
    "test['Profession']=train.apply(lambda col:fillna(test['Profession']))\n",
    "\n",
    "test['Wears Glasses']=train.apply(lambda col:fillna(test['Wears Glasses']))\n",
    "\n",
    "test[\"Hair Color\"].replace(\"0\", np.NaN, inplace=True)\n",
    "test[\"Hair Color\"].replace(\"Unknown\", np.NaN, inplace=True)\n",
    "test['Hair Color']=train.apply(lambda col:fillna(test['Hair Color']))\n",
    "\n",
    "test.head()"
   ]
  },
  {
   "cell_type": "markdown",
   "metadata": {},
   "source": [
    "# Binary Encoding the Data"
   ]
  },
  {
   "cell_type": "code",
   "execution_count": 9,
   "metadata": {},
   "outputs": [],
   "source": [
    "ce_binary = ce.BinaryEncoder()\n",
    "\n",
    "#concatenate x and test\n",
    "frames = [X, test]\n",
    "total_X = pd.concat(frames)\n",
    "frames = [y, y_test]\n",
    "\n",
    "total_Y = pd.concat(frames)\n",
    "\n",
    "total_X.Gender.unique()\n",
    "\n",
    "total_2 =ce_binary.fit_transform(total_X, total_Y)\n",
    "Training3 = total_2.iloc[0:96136]\n",
    "Testing3 = total_2.iloc[96137:169367]\n",
    "Training_Label = total_Y.iloc[0:96136]\n",
    "Testing_Lavel = total_Y.iloc[96137:169367]"
   ]
  },
  {
   "cell_type": "markdown",
   "metadata": {},
   "source": [
    "# Normalization"
   ]
  },
  {
   "cell_type": "code",
   "execution_count": 10,
   "metadata": {},
   "outputs": [],
   "source": [
    "#mm_scaler = MinMaxScaler()\n",
    "\n",
    "#Training3 = mm_scaler.fit_transform(Training3)\n",
    "#Testing3 = mm_scaler.fit_transform(Testing3)\n",
    "\n"
   ]
  },
  {
   "cell_type": "markdown",
   "metadata": {},
   "source": [
    "# Building the model"
   ]
  },
  {
   "cell_type": "code",
   "execution_count": 11,
   "metadata": {},
   "outputs": [],
   "source": [
    "from sklearn.linear_model import LinearRegression\n",
    "from sklearn.neighbors import KNeighborsRegressor\n",
    "from sklearn.ensemble import GradientBoostingRegressor\n",
    "from sklearn.ensemble import RandomForestRegressor\n",
    "\n",
    "from sklearn.metrics import mean_absolute_error\n",
    "from sklearn.metrics import r2_score\n",
    "from sklearn.metrics import mean_squared_error , mean_squared_log_error\n",
    "import xgboost\n",
    "from sklearn.neural_network import MLPRegressor\n",
    "\n",
    "LR = LinearRegression()\n",
    "KN = KNeighborsRegressor()\n",
    "GBR = GradientBoostingRegressor()\n",
    "MLP = MLPRegressor()"
   ]
  },
  {
   "cell_type": "code",
   "execution_count": 12,
   "metadata": {},
   "outputs": [],
   "source": [
    "from sklearn.model_selection import train_test_split # split library\n",
    "\n",
    "\n",
    "X_train, X_test, y_train, y_test = train_test_split(Training3, Training_Label, test_size=0.3 , random_state=12)"
   ]
  },
  {
   "cell_type": "markdown",
   "metadata": {},
   "source": [
    "## Random Forest Regressor"
   ]
  },
  {
   "cell_type": "code",
   "execution_count": 13,
   "metadata": {},
   "outputs": [
    {
     "name": "stdout",
     "output_type": "stream",
     "text": [
      "r2_score :  0.7259416384397852\n",
      "Root mean_squared_error  79450.72470763247\n"
     ]
    }
   ],
   "source": [
    "RFR = RandomForestRegressor( n_estimators=100, random_state= 42)\n",
    "\n",
    "\n",
    "RFR.fit(X_train, y_train) # Start Training\n",
    "RFR_pred = RFR.predict(X_test) # Start Predicting\n",
    "\n",
    "print(\"r2_score : \", r2_score(y_test, RFR_pred)) # accuracy\n",
    "print(\"Root mean_squared_error \", np.sqrt(mean_squared_error(y_test, RFR_pred)))"
   ]
  },
  {
   "cell_type": "markdown",
   "metadata": {},
   "source": [
    "# Linear Regression"
   ]
  },
  {
   "cell_type": "code",
   "execution_count": 14,
   "metadata": {},
   "outputs": [
    {
     "name": "stdout",
     "output_type": "stream",
     "text": [
      "r2_score :  0.32504355348889513\n",
      "Root mean_squared_error  124684.99990525116\n"
     ]
    }
   ],
   "source": [
    "LR.fit(X_train, y_train) # start trining\n",
    "LR_pred = LR.predict(X_test) # take predictions\n",
    "\n",
    "print(\"r2_score : \", r2_score(y_test, LR_pred)) \n",
    "print(\"Root mean_squared_error \", np.sqrt(mean_squared_error(y_test, LR_pred)))"
   ]
  },
  {
   "cell_type": "markdown",
   "metadata": {},
   "source": [
    "## KNeighborsRegressor"
   ]
  },
  {
   "cell_type": "code",
   "execution_count": 15,
   "metadata": {},
   "outputs": [
    {
     "name": "stdout",
     "output_type": "stream",
     "text": [
      "r2_score :  -0.16884820161447922\n",
      "Root mean_squared_log_error  164079.90312793964\n"
     ]
    }
   ],
   "source": [
    "KN.fit(X_train, y_train) # start trining\n",
    "KN_pred = KN.predict(X_test) # take predictions\n",
    "\n",
    "print(\"r2_score : \", r2_score(y_test, KN_pred)) # accuracy\n",
    "print(\"Root mean_squared_log_error \", np.sqrt(mean_squared_error(y_test, KN_pred)))"
   ]
  },
  {
   "cell_type": "markdown",
   "metadata": {},
   "source": [
    "# Multi-Layer Perceptor Regressor"
   ]
  },
  {
   "cell_type": "code",
   "execution_count": 16,
   "metadata": {},
   "outputs": [
    {
     "name": "stdout",
     "output_type": "stream",
     "text": [
      "r2_score :  0.00899513149288167\n",
      "Root mean_squared_log_error  151082.52292437173\n"
     ]
    }
   ],
   "source": [
    "MLP.fit(X_train,y_train)\n",
    "MLP_pred = MLP.predict(X_test)\n",
    "\n",
    "print(\"r2_score : \", r2_score(y_test, MLP_pred)) # accuracy\n",
    "print(\"Root mean_squared_log_error \", np.sqrt(mean_squared_error(y_test, MLP_pred)))"
   ]
  },
  {
   "cell_type": "markdown",
   "metadata": {},
   "source": [
    "# Random Forest Regressor gave the best result, so training the full data"
   ]
  },
  {
   "cell_type": "code",
   "execution_count": 17,
   "metadata": {},
   "outputs": [],
   "source": [
    "RFR.fit(Training3, Training_Label) \n",
    "RFR_pred = RFR.predict(Testing3) # take predictions\n"
   ]
  },
  {
   "cell_type": "code",
   "execution_count": 18,
   "metadata": {},
   "outputs": [],
   "source": [
    "pd.DataFrame(RFR_pred).to_csv(\"RFR_pred.csv\")"
   ]
  }
 ],
 "metadata": {
  "kernelspec": {
   "display_name": "Python 3",
   "language": "python",
   "name": "python3"
  },
  "language_info": {
   "codemirror_mode": {
    "name": "ipython",
    "version": 3
   },
   "file_extension": ".py",
   "mimetype": "text/x-python",
   "name": "python",
   "nbconvert_exporter": "python",
   "pygments_lexer": "ipython3",
   "version": "3.7.4"
  }
 },
 "nbformat": 4,
 "nbformat_minor": 2
}
